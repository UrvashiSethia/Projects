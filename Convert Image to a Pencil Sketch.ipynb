{
 "cells": [
  {
   "cell_type": "markdown",
   "id": "a99a173a",
   "metadata": {},
   "source": [
    "We will use the OpenCV library for this project. Install it using pip install opencv-python command."
   ]
  },
  {
   "cell_type": "code",
   "execution_count": null,
   "id": "895c080c",
   "metadata": {},
   "outputs": [],
   "source": []
  },
  {
   "cell_type": "markdown",
   "id": "b49a2425",
   "metadata": {},
   "source": [
    "Read the image in RBG format and then convert it to a grayscale image. Now, the image is turned into a classic black and white photo."
   ]
  },
  {
   "cell_type": "code",
   "execution_count": 1,
   "id": "493eacb6",
   "metadata": {},
   "outputs": [],
   "source": [
    "import cv2\n",
    "#reading image\n",
    "image = cv2.imread(\"photo (125x165 pix).jpg\")"
   ]
  },
  {
   "cell_type": "code",
   "execution_count": 2,
   "id": "f220530d",
   "metadata": {},
   "outputs": [],
   "source": [
    "#converting BGR image to grayscale\n",
    "gray_image = cv2.cvtColor(image, cv2.COLOR_BGR2GRAY)"
   ]
  },
  {
   "cell_type": "markdown",
   "id": "2315c84d",
   "metadata": {},
   "source": [
    "Next step is to invert the grayscale image also called the negative image, this will be our inverted grayscale image. Inversion is basically used to enhance details."
   ]
  },
  {
   "cell_type": "code",
   "execution_count": 3,
   "id": "7922cd9b",
   "metadata": {},
   "outputs": [],
   "source": [
    "#image inversion\n",
    "inverted_image = 255 - gray_image"
   ]
  },
  {
   "cell_type": "markdown",
   "id": "3023d720",
   "metadata": {},
   "source": [
    "Finally create the pencil sketch by mixing the grayscale image with the inverted blurry image. This is done by dividing the grayscale image by the inverted blurry image."
   ]
  },
  {
   "cell_type": "code",
   "execution_count": 4,
   "id": "d475ce0d",
   "metadata": {},
   "outputs": [],
   "source": [
    "blurred = cv2.GaussianBlur(inverted_image, (21, 21), 0)\n",
    "inverted_blurred = 255 - blurred\n",
    "pencil_sketch = cv2.divide(gray_image, inverted_blurred, scale=256.0)"
   ]
  },
  {
   "cell_type": "markdown",
   "id": "18bdaeca",
   "metadata": {},
   "source": [
    "We now got our pencil_sketch. So, display it using OpenCV."
   ]
  },
  {
   "cell_type": "code",
   "execution_count": null,
   "id": "c2c54e68",
   "metadata": {},
   "outputs": [],
   "source": [
    "cv2.imshow(\"Original Image\", image)\n",
    "cv2.imshow(\"Pencil Sketch of a Girl\", pencil_sketch)\n",
    "cv2.waitKey(0)"
   ]
  },
  {
   "cell_type": "code",
   "execution_count": null,
   "id": "285f7e3a",
   "metadata": {},
   "outputs": [],
   "source": []
  }
 ],
 "metadata": {
  "kernelspec": {
   "display_name": "Python 3",
   "language": "python",
   "name": "python3"
  },
  "language_info": {
   "codemirror_mode": {
    "name": "ipython",
    "version": 3
   },
   "file_extension": ".py",
   "mimetype": "text/x-python",
   "name": "python",
   "nbconvert_exporter": "python",
   "pygments_lexer": "ipython3",
   "version": "3.8.8"
  }
 },
 "nbformat": 4,
 "nbformat_minor": 5
}
